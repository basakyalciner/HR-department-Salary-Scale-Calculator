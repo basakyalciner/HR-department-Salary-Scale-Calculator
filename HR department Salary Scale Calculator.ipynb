{
 "cells": [
  {
   "cell_type": "markdown",
   "id": "4b9efc7d",
   "metadata": {},
   "source": [
    "# 3. Proje: HR departmanı Maaş Skalası Hesaplama\n",
    "\n",
    "### Konu: Polinomial Linear Regression\n"
   ]
  },
  {
   "cell_type": "code",
   "execution_count": 1,
   "id": "2770ad83",
   "metadata": {},
   "outputs": [],
   "source": [
    "import numpy as np \n",
    "import pandas as pd\n",
    "import matplotlib.pyplot as plt\n",
    "from sklearn.linear_model import LinearRegression \n",
    "from sklearn.preprocessing import PolynomialFeatures"
   ]
  },
  {
   "cell_type": "code",
   "execution_count": 2,
   "id": "b688bb03",
   "metadata": {},
   "outputs": [],
   "source": [
    "df= pd.read_csv(\"polynomial.csv\" , sep = \";\")\n",
    "\n",
    "polynomial_regression=PolynomialFeatures(degree=2) #degre=n"
   ]
  },
  {
   "cell_type": "code",
   "execution_count": 3,
   "id": "fceb6dcd",
   "metadata": {},
   "outputs": [
    {
     "data": {
      "text/html": [
       "<div>\n",
       "<style scoped>\n",
       "    .dataframe tbody tr th:only-of-type {\n",
       "        vertical-align: middle;\n",
       "    }\n",
       "\n",
       "    .dataframe tbody tr th {\n",
       "        vertical-align: top;\n",
       "    }\n",
       "\n",
       "    .dataframe thead th {\n",
       "        text-align: right;\n",
       "    }\n",
       "</style>\n",
       "<table border=\"1\" class=\"dataframe\">\n",
       "  <thead>\n",
       "    <tr style=\"text-align: right;\">\n",
       "      <th></th>\n",
       "      <th>deneyim</th>\n",
       "      <th>maas</th>\n",
       "    </tr>\n",
       "  </thead>\n",
       "  <tbody>\n",
       "    <tr>\n",
       "      <th>0</th>\n",
       "      <td>1</td>\n",
       "      <td>4500</td>\n",
       "    </tr>\n",
       "    <tr>\n",
       "      <th>1</th>\n",
       "      <td>2</td>\n",
       "      <td>5000</td>\n",
       "    </tr>\n",
       "    <tr>\n",
       "      <th>2</th>\n",
       "      <td>3</td>\n",
       "      <td>6000</td>\n",
       "    </tr>\n",
       "    <tr>\n",
       "      <th>3</th>\n",
       "      <td>4</td>\n",
       "      <td>8000</td>\n",
       "    </tr>\n",
       "    <tr>\n",
       "      <th>4</th>\n",
       "      <td>5</td>\n",
       "      <td>11000</td>\n",
       "    </tr>\n",
       "    <tr>\n",
       "      <th>5</th>\n",
       "      <td>6</td>\n",
       "      <td>15000</td>\n",
       "    </tr>\n",
       "    <tr>\n",
       "      <th>6</th>\n",
       "      <td>7</td>\n",
       "      <td>20000</td>\n",
       "    </tr>\n",
       "    <tr>\n",
       "      <th>7</th>\n",
       "      <td>8</td>\n",
       "      <td>30000</td>\n",
       "    </tr>\n",
       "    <tr>\n",
       "      <th>8</th>\n",
       "      <td>9</td>\n",
       "      <td>50000</td>\n",
       "    </tr>\n",
       "    <tr>\n",
       "      <th>9</th>\n",
       "      <td>10</td>\n",
       "      <td>100000</td>\n",
       "    </tr>\n",
       "  </tbody>\n",
       "</table>\n",
       "</div>"
      ],
      "text/plain": [
       "   deneyim    maas\n",
       "0        1    4500\n",
       "1        2    5000\n",
       "2        3    6000\n",
       "3        4    8000\n",
       "4        5   11000\n",
       "5        6   15000\n",
       "6        7   20000\n",
       "7        8   30000\n",
       "8        9   50000\n",
       "9       10  100000"
      ]
     },
     "execution_count": 3,
     "metadata": {},
     "output_type": "execute_result"
    }
   ],
   "source": [
    "df"
   ]
  },
  {
   "cell_type": "code",
   "execution_count": 4,
   "id": "5a35417d",
   "metadata": {},
   "outputs": [
    {
     "data": {
      "image/png": "[encoded data removed]",
      "text/plain": [
       "<Figure size 432x288 with 1 Axes>"
      ]
     },
     "metadata": {
      "needs_background": "light"
     },
     "output_type": "display_data"
    }
   ],
   "source": [
    "#Veri setimize bakalım \n",
    "plt.scatter(df[\"deneyim\"], df[\"maas\"])\n",
    "plt.xlabel(\"Deneyim (yıl)\")\n",
    "plt.ylabel(\"maas\")\n",
    "plt.savefig(\"1.png\" ,dpi=300)\n",
    "plt.show()"
   ]
  },
  {
   "cell_type": "code",
   "execution_count": 5,
   "id": "2a309706",
   "metadata": {},
   "outputs": [
    {
     "data": {
      "image/png": "[encoded data removed]",
      "text/plain": [
       "<Figure size 432x288 with 1 Axes>"
      ]
     },
     "metadata": {
      "needs_background": "light"
     },
     "output_type": "display_data"
    }
   ],
   "source": [
    "#Bu modele linear regression uygularsak ne olur?\n",
    "\n",
    "reg=LinearRegression()\n",
    "reg.fit(df[[\"deneyim\"]],df[\"maas\"])\n",
    "\n",
    "plt.xlabel(\"Deneyim (yıl)\")\n",
    "plt.ylabel(\"Maaş\")\n",
    "plt.scatter(df[\"deneyim\"],df[\"maas\"])\n",
    "xekseni=df[\"deneyim\"]\n",
    "yekseni=reg.predict(df[[\"deneyim\"]])\n",
    "\n",
    "plt.plot(xekseni, yekseni, color=\"green\", label=\"linear regression\")\n",
    "plt.legend()\n",
    "plt.show()"
   ]
  },
  {
   "cell_type": "markdown",
   "id": "71683188",
   "metadata": {},
   "source": [
    "Tahmin için çok kötü bir model demek ki neymiş: Bu veri seti için linear regresyon uygulamak doğru değilmiş.\n",
    "Uygun modeli seçeceğiz! Öncelikle veri setini hakim olmalı ve bilmeliyiz."
   ]
  },
  {
   "cell_type": "code",
   "execution_count": 6,
   "id": "2d1f3e8a",
   "metadata": {},
   "outputs": [],
   "source": [
    "polynomial_regression=PolynomialFeatures(degree=4) #Başta 2 denedik fakat 4 tam oturdu.\n",
    "x_polynomial= polynomial_regression.fit_transform(df[[\"deneyim\"]])"
   ]
  },
  {
   "cell_type": "code",
   "execution_count": 7,
   "id": "3070f26d",
   "metadata": {},
   "outputs": [
    {
     "data": {
      "text/plain": [
       "LinearRegression()"
      ]
     },
     "execution_count": 7,
     "metadata": {},
     "output_type": "execute_result"
    }
   ],
   "source": [
    "reg=LinearRegression()\n",
    "reg.fit(x_polynomial, df[\"maas\"])"
   ]
  },
  {
   "cell_type": "code",
   "execution_count": 8,
   "id": "ab4ce223",
   "metadata": {},
   "outputs": [
    {
     "data": {
      "image/png": "[encoded data removed]",
      "text/plain": [
       "<Figure size 432x288 with 1 Axes>"
      ]
     },
     "metadata": {
      "needs_background": "light"
     },
     "output_type": "display_data"
    }
   ],
   "source": [
    "y_head=reg.predict(x_polynomial)\n",
    "plt.plot(df[\"deneyim\"], y_head, color=\"red\", label=\"polynomial regression\")\n",
    "plt.legend()\n",
    "\n",
    "plt.scatter(df[\"deneyim\"], df[\"maas\"])\n",
    "plt.show()"
   ]
  },
  {
   "cell_type": "code",
   "execution_count": 9,
   "id": "6035017c",
   "metadata": {},
   "outputs": [
    {
     "data": {
      "text/plain": [
       "array([10958.21496213])"
      ]
     },
     "execution_count": 9,
     "metadata": {},
     "output_type": "execute_result"
    }
   ],
   "source": [
    "#4.5 leveldeki biri kaç tl maas alır.\n",
    "\n",
    "x_polynomial1= polynomial_regression.fit_transform([[4.5]])\n",
    "reg.predict(x_polynomial1)"
   ]
  }
 ],
 "metadata": {
  "kernelspec": {
   "display_name": "Python 3 (ipykernel)",
   "language": "python",
   "name": "python3"
  },
  "language_info": {
   "codemirror_mode": {
    "name": "ipython",
    "version": 3
   },
   "file_extension": ".py",
   "mimetype": "text/x-python",
   "name": "python",
   "nbconvert_exporter": "python",
   "pygments_lexer": "ipython3",
   "version": "3.9.12"
  }
 },
 "nbformat": 4,
 "nbformat_minor": 5
}
